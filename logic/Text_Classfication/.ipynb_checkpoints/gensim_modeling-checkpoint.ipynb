{
 "cells": [
  {
   "cell_type": "markdown",
   "metadata": {},
   "source": [
    "# 환경 세팅"
   ]
  },
  {
   "cell_type": "code",
   "execution_count": 1,
   "metadata": {
    "collapsed": true
   },
   "outputs": [
    {
     "name": "stdout",
     "output_type": "stream",
     "text": [
      "Requirement already satisfied: gensim in /Users/younghunjoo/opt/anaconda3/lib/python3.7/site-packages (3.8.2)\n",
      "Requirement already satisfied: numpy>=1.11.3 in /Users/younghunjoo/opt/anaconda3/lib/python3.7/site-packages (from gensim) (1.17.2)\n",
      "Requirement already satisfied: scipy>=1.0.0 in /Users/younghunjoo/opt/anaconda3/lib/python3.7/site-packages (from gensim) (1.4.1)\n",
      "Requirement already satisfied: six>=1.5.0 in /Users/younghunjoo/opt/anaconda3/lib/python3.7/site-packages (from gensim) (1.12.0)\n",
      "Requirement already satisfied: smart-open>=1.8.1 in /Users/younghunjoo/opt/anaconda3/lib/python3.7/site-packages (from gensim) (2.0.0)\n",
      "Requirement already satisfied: boto3 in /Users/younghunjoo/opt/anaconda3/lib/python3.7/site-packages (from smart-open>=1.8.1->gensim) (1.12.47)\n",
      "Requirement already satisfied: requests in /Users/younghunjoo/opt/anaconda3/lib/python3.7/site-packages (from smart-open>=1.8.1->gensim) (2.22.0)\n",
      "Requirement already satisfied: boto in /Users/younghunjoo/opt/anaconda3/lib/python3.7/site-packages (from smart-open>=1.8.1->gensim) (2.49.0)\n",
      "Requirement already satisfied: botocore<1.16.0,>=1.15.47 in /Users/younghunjoo/opt/anaconda3/lib/python3.7/site-packages (from boto3->smart-open>=1.8.1->gensim) (1.15.47)\n",
      "Requirement already satisfied: jmespath<1.0.0,>=0.7.1 in /Users/younghunjoo/opt/anaconda3/lib/python3.7/site-packages (from boto3->smart-open>=1.8.1->gensim) (0.9.5)\n",
      "Requirement already satisfied: s3transfer<0.4.0,>=0.3.0 in /Users/younghunjoo/opt/anaconda3/lib/python3.7/site-packages (from boto3->smart-open>=1.8.1->gensim) (0.3.3)\n",
      "Requirement already satisfied: chardet<3.1.0,>=3.0.2 in /Users/younghunjoo/opt/anaconda3/lib/python3.7/site-packages (from requests->smart-open>=1.8.1->gensim) (3.0.4)\n",
      "Requirement already satisfied: idna<2.9,>=2.5 in /Users/younghunjoo/opt/anaconda3/lib/python3.7/site-packages (from requests->smart-open>=1.8.1->gensim) (2.8)\n",
      "Requirement already satisfied: certifi>=2017.4.17 in /Users/younghunjoo/opt/anaconda3/lib/python3.7/site-packages (from requests->smart-open>=1.8.1->gensim) (2019.9.11)\n",
      "Requirement already satisfied: urllib3!=1.25.0,!=1.25.1,<1.26,>=1.21.1 in /Users/younghunjoo/opt/anaconda3/lib/python3.7/site-packages (from requests->smart-open>=1.8.1->gensim) (1.24.2)\n",
      "Requirement already satisfied: docutils<0.16,>=0.10 in /Users/younghunjoo/opt/anaconda3/lib/python3.7/site-packages (from botocore<1.16.0,>=1.15.47->boto3->smart-open>=1.8.1->gensim) (0.15.2)\n",
      "Requirement already satisfied: python-dateutil<3.0.0,>=2.1 in /Users/younghunjoo/opt/anaconda3/lib/python3.7/site-packages (from botocore<1.16.0,>=1.15.47->boto3->smart-open>=1.8.1->gensim) (2.8.0)\n",
      "Requirement already satisfied: Twitter in /Users/younghunjoo/opt/anaconda3/lib/python3.7/site-packages (1.18.0)\n"
     ]
    }
   ],
   "source": [
    "! pip install gensim\n",
    "! pip install Twitter"
   ]
  },
  {
   "cell_type": "code",
   "execution_count": 2,
   "metadata": {},
   "outputs": [],
   "source": [
    "# NLP 라이브러리 - 문장과 문장의 유사도를 측정해줌.\n",
    "import gensim\n",
    "# 태그해주는 라이브러리 - 문장에 어떤 단어 형식의 태그를 만들어준다.\n",
    "from konlpy.tag import Twitter"
   ]
  },
  {
   "cell_type": "code",
   "execution_count": 3,
   "metadata": {},
   "outputs": [],
   "source": [
    "# 내가 추출하고자 하는 단어의 타입 (ex, 명사, 외래어, 알파벳)\n",
    "pos_in = ['Noun','Foreign','Unknown','Hashtag','Alpha']#,'Number','Verb']#,'URL','Adjective','Alpha','Josa','Eomi', 'Suffix']\n",
    "\n",
    "# 태깅처리된 object 담을 리스트\n",
    "tagged = []\n",
    "# 말씀과 사용자의 고민을 담아줄 리스트\n",
    "sentence = [] "
   ]
  },
  {
   "cell_type": "markdown",
   "metadata": {},
   "source": [
    "# Dataset 구축"
   ]
  },
  {
   "cell_type": "code",
   "execution_count": 4,
   "metadata": {},
   "outputs": [],
   "source": [
    "# 감사\n",
    "sentence.append((\"아침과 저녁마다 서서 여호와께 감사하고 찬송하며\",\"감사\"))\n",
    "sentence.append((\"주여 내가 만민 중에서 주께 감사하오며 뭇 나라 중에서 주를 찬송하리이다\",\"감사\"))\n",
    "sentence.append((\"감사함으로 그의 문에 들어가며 찬송함으로 그의 궁정에 들어가서 그에게 감사하며 그의 이름을 송축할지어다\",\"감사\"))\n",
    "sentence.append((\"우리가 우리 하나님 앞에서 너희로 말미암아 모든 기쁨으로 기뻐하니 너희를 위하여 능히 어떠한 감사로 하나님께 보답할까\",\"감사\"))\n",
    "sentence.append((\"의인이여 너희는 여호와로 말미암아 기뻐하며 그의 거룩한 이름에 감사할지어다\",\"감사\"))\n",
    "sentence.append((\"항상 기뻐하라 쉬지 말고 기도하라 범사에 감사하라 이것이 그리스도 예수 안에서 너희를 향하신 하나님의 뜻이니라\",\"감사\"))\n",
    "sentence.append((\"범사에 우리 주 예수 그리스도의 이름으로 항상 아버지 하나님께 감사하며\",\"감사\"))\n",
    "\n",
    "#건강\n",
    "sentence.append((\"주는 나를 용서하사 내가 떠나 없어지기 전에 나의 건강을 회복시키소서\",\"건강\"))\n",
    "sentence.append((\"이르되 큰 은총을 받은 사람이여 두려워하지 말라 평안하라 강건하라 강건하라 그가 이같이 내게 말하매 내가 곧 힘이 나서 이르되 내 주께서 나를 강건하게 하셨사오니 말씀하옵소서\",\"건강\"))\n",
    "sentence.append((\"스스로 지혜롭게 여기지 말지어다 여호와를 경외하며 악을 떠날지어다 8 이것이 네 몸에 양약이 되어 네 골수를 윤택하게 하리라\",\"건강\"))\n",
    "sentence.append((\"사랑하는 자여 네 영혼이 잘됨 같이 네가 범사에 잘되고 강건하기를 내가 간구하노라 \",\"건강\"))\n",
    "sentence.append((\"너는 알지 못하였느냐 듣지 못하였느냐 영원하신 하나님 여호와, 땅 끝까지 창조하신 이는 피곤하지 않으시며 곤비하지 않으시며 명철이 한이 없으시며 29 피곤한 자에게는 능력을 주시며 무능한 자에게는 힘을 더하시나니 30 소년이라도 피곤하며 곤비하며 장정이라도 넘어지며 쓰러지되 31 오직 여호와를 앙망하는 자는 새 힘을 얻으리니 독수리가 날개치며 올라감 같을 것이요 달음박질하여도 곤비하지 아니하겠고 걸어가도 피곤하지 아니하리로다\",\"건강\"))\n",
    "\n",
    "#게으름\n",
    "sentence.append((\"게으른 자여 개미에게 가서 그가 하는 것을 보고 지혜를 얻으라\",\"게으름\"))\n",
    "sentence.append((\"손을 게으르게 놀리는 자는 가난하게 되고 손이 부지런한 자는 부하게 되느니라\",\"게으름\"))\n",
    "sentence.append((\"부지런한 자의 손은 사람을 다스리게 되어도 게으른 자는 부림을 받느니라 \",\"게으름\"))\n",
    "sentence.append((\"게으른 자의 길은 가시 울타리 같으나 정직한 자의 길은 대로니라\",\"게으름\"))\n",
    "sentence.append((\"문짝이 돌쩌귀를 따라서 도는 것 같이 게으른 자는 침상에서 도느니라 15 게으른 자는 그 손을 그릇에 넣고도 입으로 올리기를 괴로워하느니라 16 게으른 자는 사리에 맞게 대답하는 사람 일곱보다 자기를 지혜롭게 여기느니라 \",\"게으름\"))\n",
    "\n",
    "#연애\n",
    "sentence.append((\"그런즉 이제 둘이 아니요 한 몸이니 그러므로 하나님이 짝지어 주신 것을 사람이 나누지 못할지니라 하시니\",\"연애\"))\n",
    "sentence.append((\"여호와 하나님이 이르시되 사람이 혼자 사는 것이 좋지 아니하니 내가 그를 위하여 돕는 배필을 지으리라 하시니라\",\"연애\"))\n",
    "sentence.append((\"그리스도를 경외함으로 피차 복종하라\",\"연애\"))\n",
    "sentence.append((\"그러므로 사람이 부모를 떠나 그의 아내와 합하여 그 둘이 한 육체가 될지니 32 이 비밀이 크도다 나는 그리스도와 교회에 대하여 말하노라 33 그러나 너희도 각각 자기의 아내 사랑하기를 자신 같이 하고 아내도 자기 남편을 존경하라\",\"연애\"))\n",
    "sentence.append((\"말씀하시기를 그러므로 사람이 그 부모를 떠나서 아내에게 합하여 그 둘이 한 몸이 될지니라 하신 것을 읽지 못하였느냐\",\"연애\"))\n",
    "sentence.append((\"남편들아 이와 같이 지식을 따라 너희 아내와 동거하고 그를 더 연약한 그릇이요 또 생명의 은혜를 함께 이어받을 자로 알아 귀히 여기라 이는 너희 기도가 막히지 아니하게 하려 함이라\",\"연애\"))\n",
    "\n",
    "#고난\n",
    "sentence.append((\"그리스도가 이런 고난을 받고 자기의 영광에 들어가야 할 것이 아니냐 하시고\",\"고난\"))\n",
    "sentence.append((\"자녀이면 또한 상속자 곧 하나님의 상속자요 그리스도와 함께 한 상속자니 우리가 그와 함께 영광을 받기 위하여 고난도 함께 받아야 할 것이니라\",\"고난\"))\n",
    "sentence.append((\"생각하건대 현재의 고난은 장차 우리에게 나타날 영광과 비교할 수 없도다 \",\"고난\"))\n",
    "sentence.append((\"오히려 너희가 그리스도의 고난에 참여하는 것으로 즐거워하라 이는 그의 영광을 나타내실 때에 너희로 즐거워하고 기뻐하게 하려 함이라\",\"고난\"))\n",
    "sentence.append((\"만일 그리스도인으로 고난을 받으면 부끄러워하지 말고 도리어 그 이름으로 하나님께 영광을 돌리라\",\"고난\"))\n",
    "sentence.append((\"너희 중에 고난 당하는 자가 있느냐 그는 기도할 것이요 즐거워하는 자가 있느냐 그는 찬송할지니라\",\"고난\"))\n",
    "sentence.append((\"네가 고난 중에 부르짖으매 내가 너를 건졌고 우렛소리의 은밀한 곳에서 네게 응답하며 므리바 물 가에서 너를 시험하였도다\",\"고난\"))\n",
    "sentence.append((\"내가 환난 중에 여호와께 부르짖었더니 내게 응답하셨도다\",\"고난\"))\n",
    "\n",
    "# 고통\n",
    "sentence.append((\"너희는 너희를 모든 재난과 고통 중에서 친히 구원하여 내신 너희의 하나님을 오늘 버리고 이르기를 우리 위에 왕을 세우라 하는도다 그런즉 이제 너희의 지파대로 천 명씩 여호와 앞에 나아오라 하고 \",\"고통\"))\n",
    "sentence.append((\"다윗이 갓에게 이르되 내가 고통 중에 있도다 청하건대 여호와께서는 긍휼이 크시니 우리가 여호와의 손에 빠지고 내가 사람의 손에 빠지지 아니하기를 원하노라 하는지라\",\"고통\"))\n",
    "sentence.append((\"여호와여 내가 고통 중에 있사오니 내게 은혜를 베푸소서 내가 근심 때문에 눈과 영혼과 몸이 쇠하였나이다\",\"고통\"))\n",
    "sentence.append((\"이에 그들이 근심 중에 여호와께 부르짖으매 그들의 고통에서 건지시고\",\"고통\"))\n",
    "sentence.append((\"이에 그들이 그 환난 중에 여호와께 부르짖으매 그들의 고통에서 구원하시되\",\"고통\"))\n",
    "sentence.append((\"내가 고통 중에 여호와께 부르짖었더니 여호와께서 응답하시고 나를 넓은 곳에 세우셨도다\",\"고통\"))\n"
   ]
  },
  {
   "cell_type": "markdown",
   "metadata": {},
   "source": [
    "# User Input 값을 \"고민\"이라는 태그로 배열에 추가"
   ]
  },
  {
   "cell_type": "code",
   "execution_count": 5,
   "metadata": {},
   "outputs": [],
   "source": [
    "user_input = \"요즘 취업준비 하는 것 때문에 너무 두렵도 힘들어요. 이 기간이 언제 끝날지 모르겠지만, 그래도 하나님께서 항상 제 길을 인도해주신다는 것을 믿어요\\\n",
    "저의 이 시간이 빨리 끝났으면 좋겠어여\"\n",
    "\n",
    "sentence.append((user_input,\"고민\"))"
   ]
  },
  {
   "cell_type": "markdown",
   "metadata": {},
   "source": [
    "# 잘 담겼는지 출력"
   ]
  },
  {
   "cell_type": "code",
   "execution_count": 6,
   "metadata": {
    "collapsed": true
   },
   "outputs": [
    {
     "data": {
      "text/plain": [
       "[('아침과 저녁마다 서서 여호와께 감사하고 찬송하며', '감사'),\n",
       " ('주여 내가 만민 중에서 주께 감사하오며 뭇 나라 중에서 주를 찬송하리이다', '감사'),\n",
       " ('감사함으로 그의 문에 들어가며 찬송함으로 그의 궁정에 들어가서 그에게 감사하며 그의 이름을 송축할지어다', '감사'),\n",
       " ('우리가 우리 하나님 앞에서 너희로 말미암아 모든 기쁨으로 기뻐하니 너희를 위하여 능히 어떠한 감사로 하나님께 보답할까', '감사'),\n",
       " ('의인이여 너희는 여호와로 말미암아 기뻐하며 그의 거룩한 이름에 감사할지어다', '감사'),\n",
       " ('항상 기뻐하라 쉬지 말고 기도하라 범사에 감사하라 이것이 그리스도 예수 안에서 너희를 향하신 하나님의 뜻이니라', '감사'),\n",
       " ('범사에 우리 주 예수 그리스도의 이름으로 항상 아버지 하나님께 감사하며', '감사'),\n",
       " ('주는 나를 용서하사 내가 떠나 없어지기 전에 나의 건강을 회복시키소서', '건강'),\n",
       " ('이르되 큰 은총을 받은 사람이여 두려워하지 말라 평안하라 강건하라 강건하라 그가 이같이 내게 말하매 내가 곧 힘이 나서 이르되 내 주께서 나를 강건하게 하셨사오니 말씀하옵소서',\n",
       "  '건강'),\n",
       " ('스스로 지혜롭게 여기지 말지어다 여호와를 경외하며 악을 떠날지어다 8 이것이 네 몸에 양약이 되어 네 골수를 윤택하게 하리라',\n",
       "  '건강'),\n",
       " ('사랑하는 자여 네 영혼이 잘됨 같이 네가 범사에 잘되고 강건하기를 내가 간구하노라 ', '건강'),\n",
       " ('너는 알지 못하였느냐 듣지 못하였느냐 영원하신 하나님 여호와, 땅 끝까지 창조하신 이는 피곤하지 않으시며 곤비하지 않으시며 명철이 한이 없으시며 29 피곤한 자에게는 능력을 주시며 무능한 자에게는 힘을 더하시나니 30 소년이라도 피곤하며 곤비하며 장정이라도 넘어지며 쓰러지되 31 오직 여호와를 앙망하는 자는 새 힘을 얻으리니 독수리가 날개치며 올라감 같을 것이요 달음박질하여도 곤비하지 아니하겠고 걸어가도 피곤하지 아니하리로다',\n",
       "  '건강'),\n",
       " ('게으른 자여 개미에게 가서 그가 하는 것을 보고 지혜를 얻으라', '게으름'),\n",
       " ('손을 게으르게 놀리는 자는 가난하게 되고 손이 부지런한 자는 부하게 되느니라', '게으름'),\n",
       " ('부지런한 자의 손은 사람을 다스리게 되어도 게으른 자는 부림을 받느니라 ', '게으름'),\n",
       " ('게으른 자의 길은 가시 울타리 같으나 정직한 자의 길은 대로니라', '게으름'),\n",
       " ('문짝이 돌쩌귀를 따라서 도는 것 같이 게으른 자는 침상에서 도느니라 15 게으른 자는 그 손을 그릇에 넣고도 입으로 올리기를 괴로워하느니라 16 게으른 자는 사리에 맞게 대답하는 사람 일곱보다 자기를 지혜롭게 여기느니라 ',\n",
       "  '게으름'),\n",
       " ('그런즉 이제 둘이 아니요 한 몸이니 그러므로 하나님이 짝지어 주신 것을 사람이 나누지 못할지니라 하시니', '연애'),\n",
       " ('여호와 하나님이 이르시되 사람이 혼자 사는 것이 좋지 아니하니 내가 그를 위하여 돕는 배필을 지으리라 하시니라', '연애'),\n",
       " ('그리스도를 경외함으로 피차 복종하라', '연애'),\n",
       " ('그러므로 사람이 부모를 떠나 그의 아내와 합하여 그 둘이 한 육체가 될지니 32 이 비밀이 크도다 나는 그리스도와 교회에 대하여 말하노라 33 그러나 너희도 각각 자기의 아내 사랑하기를 자신 같이 하고 아내도 자기 남편을 존경하라',\n",
       "  '연애'),\n",
       " ('말씀하시기를 그러므로 사람이 그 부모를 떠나서 아내에게 합하여 그 둘이 한 몸이 될지니라 하신 것을 읽지 못하였느냐', '연애'),\n",
       " ('남편들아 이와 같이 지식을 따라 너희 아내와 동거하고 그를 더 연약한 그릇이요 또 생명의 은혜를 함께 이어받을 자로 알아 귀히 여기라 이는 너희 기도가 막히지 아니하게 하려 함이라',\n",
       "  '연애'),\n",
       " ('그리스도가 이런 고난을 받고 자기의 영광에 들어가야 할 것이 아니냐 하시고', '고난'),\n",
       " ('자녀이면 또한 상속자 곧 하나님의 상속자요 그리스도와 함께 한 상속자니 우리가 그와 함께 영광을 받기 위하여 고난도 함께 받아야 할 것이니라',\n",
       "  '고난'),\n",
       " ('생각하건대 현재의 고난은 장차 우리에게 나타날 영광과 비교할 수 없도다 ', '고난'),\n",
       " ('오히려 너희가 그리스도의 고난에 참여하는 것으로 즐거워하라 이는 그의 영광을 나타내실 때에 너희로 즐거워하고 기뻐하게 하려 함이라',\n",
       "  '고난'),\n",
       " ('만일 그리스도인으로 고난을 받으면 부끄러워하지 말고 도리어 그 이름으로 하나님께 영광을 돌리라', '고난'),\n",
       " ('너희 중에 고난 당하는 자가 있느냐 그는 기도할 것이요 즐거워하는 자가 있느냐 그는 찬송할지니라', '고난'),\n",
       " ('네가 고난 중에 부르짖으매 내가 너를 건졌고 우렛소리의 은밀한 곳에서 네게 응답하며 므리바 물 가에서 너를 시험하였도다', '고난'),\n",
       " ('내가 환난 중에 여호와께 부르짖었더니 내게 응답하셨도다', '고난'),\n",
       " ('너희는 너희를 모든 재난과 고통 중에서 친히 구원하여 내신 너희의 하나님을 오늘 버리고 이르기를 우리 위에 왕을 세우라 하는도다 그런즉 이제 너희의 지파대로 천 명씩 여호와 앞에 나아오라 하고 ',\n",
       "  '고통'),\n",
       " ('다윗이 갓에게 이르되 내가 고통 중에 있도다 청하건대 여호와께서는 긍휼이 크시니 우리가 여호와의 손에 빠지고 내가 사람의 손에 빠지지 아니하기를 원하노라 하는지라',\n",
       "  '고통'),\n",
       " ('여호와여 내가 고통 중에 있사오니 내게 은혜를 베푸소서 내가 근심 때문에 눈과 영혼과 몸이 쇠하였나이다', '고통'),\n",
       " ('이에 그들이 근심 중에 여호와께 부르짖으매 그들의 고통에서 건지시고', '고통'),\n",
       " ('이에 그들이 그 환난 중에 여호와께 부르짖으매 그들의 고통에서 구원하시되', '고통'),\n",
       " ('내가 고통 중에 여호와께 부르짖었더니 여호와께서 응답하시고 나를 넓은 곳에 세우셨도다', '고통'),\n",
       " ('요즘 취업준비 하는 것 때문에 너무 두렵도 힘들어요. 이 기간이 언제 끝날지 모르겠지만, 그래도 하나님께서 항상 제 길을 인도해주신다는 것을 믿어요저의 이 시간이 빨리 끝났으면 좋겠어여',\n",
       "  '고민')]"
      ]
     },
     "execution_count": 6,
     "metadata": {},
     "output_type": "execute_result"
    }
   ],
   "source": [
    "sentence"
   ]
  },
  {
   "cell_type": "markdown",
   "metadata": {},
   "source": [
    "# 말씀 & 고민에 태깅처리를 해주고, tagged 라는 리스트에 담는다."
   ]
  },
  {
   "cell_type": "code",
   "execution_count": 7,
   "metadata": {
    "collapsed": true
   },
   "outputs": [
    {
     "name": "stdout",
     "output_type": "stream",
     "text": [
      "아침과 저녁마다 서서 여호와께 감사하고 찬송하며\n"
     ]
    },
    {
     "name": "stderr",
     "output_type": "stream",
     "text": [
      "/Users/younghunjoo/opt/anaconda3/lib/python3.7/site-packages/konlpy/tag/_okt.py:16: UserWarning: \"Twitter\" has changed to \"Okt\" since KoNLPy v0.4.5.\n",
      "  warn('\"Twitter\" has changed to \"Okt\" since KoNLPy v0.4.5.')\n"
     ]
    },
    {
     "name": "stdout",
     "output_type": "stream",
     "text": [
      "주여 내가 만민 중에서 주께 감사하오며 뭇 나라 중에서 주를 찬송하리이다\n",
      "감사함으로 그의 문에 들어가며 찬송함으로 그의 궁정에 들어가서 그에게 감사하며 그의 이름을 송축할지어다\n",
      "우리가 우리 하나님 앞에서 너희로 말미암아 모든 기쁨으로 기뻐하니 너희를 위하여 능히 어떠한 감사로 하나님께 보답할까\n",
      "의인이여 너희는 여호와로 말미암아 기뻐하며 그의 거룩한 이름에 감사할지어다\n",
      "항상 기뻐하라 쉬지 말고 기도하라 범사에 감사하라 이것이 그리스도 예수 안에서 너희를 향하신 하나님의 뜻이니라\n",
      "범사에 우리 주 예수 그리스도의 이름으로 항상 아버지 하나님께 감사하며\n",
      "주는 나를 용서하사 내가 떠나 없어지기 전에 나의 건강을 회복시키소서\n",
      "이르되 큰 은총을 받은 사람이여 두려워하지 말라 평안하라 강건하라 강건하라 그가 이같이 내게 말하매 내가 곧 힘이 나서 이르되 내 주께서 나를 강건하게 하셨사오니 말씀하옵소서\n",
      "스스로 지혜롭게 여기지 말지어다 여호와를 경외하며 악을 떠날지어다 8 이것이 네 몸에 양약이 되어 네 골수를 윤택하게 하리라\n",
      "사랑하는 자여 네 영혼이 잘됨 같이 네가 범사에 잘되고 강건하기를 내가 간구하노라 \n",
      "너는 알지 못하였느냐 듣지 못하였느냐 영원하신 하나님 여호와, 땅 끝까지 창조하신 이는 피곤하지 않으시며 곤비하지 않으시며 명철이 한이 없으시며 29 피곤한 자에게는 능력을 주시며 무능한 자에게는 힘을 더하시나니 30 소년이라도 피곤하며 곤비하며 장정이라도 넘어지며 쓰러지되 31 오직 여호와를 앙망하는 자는 새 힘을 얻으리니 독수리가 날개치며 올라감 같을 것이요 달음박질하여도 곤비하지 아니하겠고 걸어가도 피곤하지 아니하리로다\n",
      "게으른 자여 개미에게 가서 그가 하는 것을 보고 지혜를 얻으라\n",
      "손을 게으르게 놀리는 자는 가난하게 되고 손이 부지런한 자는 부하게 되느니라\n",
      "부지런한 자의 손은 사람을 다스리게 되어도 게으른 자는 부림을 받느니라 \n",
      "게으른 자의 길은 가시 울타리 같으나 정직한 자의 길은 대로니라\n",
      "문짝이 돌쩌귀를 따라서 도는 것 같이 게으른 자는 침상에서 도느니라 15 게으른 자는 그 손을 그릇에 넣고도 입으로 올리기를 괴로워하느니라 16 게으른 자는 사리에 맞게 대답하는 사람 일곱보다 자기를 지혜롭게 여기느니라 \n",
      "그런즉 이제 둘이 아니요 한 몸이니 그러므로 하나님이 짝지어 주신 것을 사람이 나누지 못할지니라 하시니\n",
      "여호와 하나님이 이르시되 사람이 혼자 사는 것이 좋지 아니하니 내가 그를 위하여 돕는 배필을 지으리라 하시니라\n",
      "그리스도를 경외함으로 피차 복종하라\n",
      "그러므로 사람이 부모를 떠나 그의 아내와 합하여 그 둘이 한 육체가 될지니 32 이 비밀이 크도다 나는 그리스도와 교회에 대하여 말하노라 33 그러나 너희도 각각 자기의 아내 사랑하기를 자신 같이 하고 아내도 자기 남편을 존경하라\n",
      "말씀하시기를 그러므로 사람이 그 부모를 떠나서 아내에게 합하여 그 둘이 한 몸이 될지니라 하신 것을 읽지 못하였느냐\n",
      "남편들아 이와 같이 지식을 따라 너희 아내와 동거하고 그를 더 연약한 그릇이요 또 생명의 은혜를 함께 이어받을 자로 알아 귀히 여기라 이는 너희 기도가 막히지 아니하게 하려 함이라\n",
      "그리스도가 이런 고난을 받고 자기의 영광에 들어가야 할 것이 아니냐 하시고\n",
      "자녀이면 또한 상속자 곧 하나님의 상속자요 그리스도와 함께 한 상속자니 우리가 그와 함께 영광을 받기 위하여 고난도 함께 받아야 할 것이니라\n",
      "생각하건대 현재의 고난은 장차 우리에게 나타날 영광과 비교할 수 없도다 \n",
      "오히려 너희가 그리스도의 고난에 참여하는 것으로 즐거워하라 이는 그의 영광을 나타내실 때에 너희로 즐거워하고 기뻐하게 하려 함이라\n",
      "만일 그리스도인으로 고난을 받으면 부끄러워하지 말고 도리어 그 이름으로 하나님께 영광을 돌리라\n",
      "너희 중에 고난 당하는 자가 있느냐 그는 기도할 것이요 즐거워하는 자가 있느냐 그는 찬송할지니라\n",
      "네가 고난 중에 부르짖으매 내가 너를 건졌고 우렛소리의 은밀한 곳에서 네게 응답하며 므리바 물 가에서 너를 시험하였도다\n",
      "내가 환난 중에 여호와께 부르짖었더니 내게 응답하셨도다\n",
      "너희는 너희를 모든 재난과 고통 중에서 친히 구원하여 내신 너희의 하나님을 오늘 버리고 이르기를 우리 위에 왕을 세우라 하는도다 그런즉 이제 너희의 지파대로 천 명씩 여호와 앞에 나아오라 하고 \n",
      "다윗이 갓에게 이르되 내가 고통 중에 있도다 청하건대 여호와께서는 긍휼이 크시니 우리가 여호와의 손에 빠지고 내가 사람의 손에 빠지지 아니하기를 원하노라 하는지라\n",
      "여호와여 내가 고통 중에 있사오니 내게 은혜를 베푸소서 내가 근심 때문에 눈과 영혼과 몸이 쇠하였나이다\n",
      "이에 그들이 근심 중에 여호와께 부르짖으매 그들의 고통에서 건지시고\n",
      "이에 그들이 그 환난 중에 여호와께 부르짖으매 그들의 고통에서 구원하시되\n",
      "내가 고통 중에 여호와께 부르짖었더니 여호와께서 응답하시고 나를 넓은 곳에 세우셨도다\n",
      "요즘 취업준비 하는 것 때문에 너무 두렵도 힘들어요. 이 기간이 언제 끝날지 모르겠지만, 그래도 하나님께서 항상 제 길을 인도해주신다는 것을 믿어요저의 이 시간이 빨리 끝났으면 좋겠어여\n"
     ]
    }
   ],
   "source": [
    "for record in sentence:\n",
    "    print(record[0])\n",
    "    twitter = Twitter()\n",
    "    tpos = twitter.pos(record[0])\n",
    "    s_t = []\n",
    "    for t in tpos:\n",
    "        if t[1] in pos_in and len(t[0]) > 0:\n",
    "            if False == False : s_t.append(t[0])\n",
    "            else : s_t.append(t[0]+'/'+t[1])\n",
    "            \n",
    "    words = s_t*1\n",
    "    tagged.append(gensim.models.doc2vec.TaggedDocument(words,[record[1]]))"
   ]
  },
  {
   "cell_type": "markdown",
   "metadata": {},
   "source": [
    "# 잘 담겼는지 확인"
   ]
  },
  {
   "cell_type": "code",
   "execution_count": 8,
   "metadata": {
    "collapsed": true
   },
   "outputs": [
    {
     "data": {
      "text/plain": [
       "[TaggedDocument(words=['아침', '저녁', '서서', '여호와', '찬송'], tags=['감사']),\n",
       " TaggedDocument(words=['주', '내', '만민', '중', '주', '감사', '뭇', '나라', '중', '주', '찬송', '하리'], tags=['감사']),\n",
       " TaggedDocument(words=['그', '문', '찬송', '함', '그', '궁정', '그', '그', '이름', '송축'], tags=['감사']),\n",
       " TaggedDocument(words=['우리', '우리', '하나님', '앞', '너희', '모든', '기쁨', '너희', '위', '능', '감사', '하나님', '보답'], tags=['감사']),\n",
       " TaggedDocument(words=['의인', '너희', '여호와', '그', '이름'], tags=['감사']),\n",
       " TaggedDocument(words=['항상', '쉬', '기도', '하라', '범사', '감사', '하라', '것', '그리스도', '예수', '안', '너희', '향', '하나님', '뜻'], tags=['감사']),\n",
       " TaggedDocument(words=['범사', '우리', '주', '예수', '그리스도', '이름', '항상', '아버지', '하나님'], tags=['감사']),\n",
       " TaggedDocument(words=['용서', '하사', '내', '전', '나', '건강', '회복'], tags=['건강']),\n",
       " TaggedDocument(words=['은총', '사람', '강건', '강건', '그', '내', '곧', '힘', '내', '주', '강건', '말씀'], tags=['건강']),\n",
       " TaggedDocument(words=['스스로', '지혜롭', '여기', '여호와', '외', '악', '것', '네', '몸', '양약', '네', '골수', '윤택', '하리'], tags=['건강']),\n",
       " TaggedDocument(words=['사랑', '자', '네', '영혼', '네', '범사', '강건', '내', '간구'], tags=['건강']),\n",
       " TaggedDocument(words=['너', '알', '하나님', '여호와', '땅', '끝', '창조', '곤', '명철', '이', '자', '능력', '주시', '자', '힘', '소년', '곤', '장정', '오직', '여호와', '앙망', '새', '힘', '독수리', '날개', '치', '것', '달음박질', '곤'], tags=['건강']),\n",
       " TaggedDocument(words=['자', '개미', '그', '것', '보고', '지혜'], tags=['게으름']),\n",
       " TaggedDocument(words=['손', '손', '부하'], tags=['게으름']),\n",
       " TaggedDocument(words=['자의', '손', '사람', '부림'], tags=['게으름']),\n",
       " TaggedDocument(words=['자의', '가시', '울타리', '자의', '대로', '니'], tags=['게으름']),\n",
       " TaggedDocument(words=['문짝', '돌쩌귀', '따라서', '도', '것', '침상', '도', '느니라', '그', '손', '그릇', '입', '리기', '사리', '대답', '사람', '일곱', '자기', '지혜롭'], tags=['게으름']),\n",
       " TaggedDocument(words=['즉', '이제', '둘', '몸', '하나님', '짝', '주신', '것', '사람'], tags=['연애']),\n",
       " TaggedDocument(words=['여호와', '하나님', '사람', '혼자', '것', '내', '그', '위', '배필'], tags=['연애']),\n",
       " TaggedDocument(words=['그리스도', '외함', '피차', '복종'], tags=['연애']),\n",
       " TaggedDocument(words=['사람', '부모', '그', '아내', '합', '그', '둘', '육체', '이', '비밀', '도', '나', '그리스도', '교회', '대하', '말', '너희', '각각', '자기', '아내', '사랑', '자신', '아내', '자기', '남편', '존경'], tags=['연애']),\n",
       " TaggedDocument(words=['말씀', '사람', '그', '부모', '아내', '합', '그', '둘', '몸', '것'], tags=['연애']),\n",
       " TaggedDocument(words=['남편', '이', '지식', '너희', '아내', '동거', '그', '더', '그릇', '또', '생명', '은혜', '자로', '알', '여기', '너희', '기도', '함'], tags=['연애']),\n",
       " TaggedDocument(words=['그리스도', '고난', '자기', '영광', '것'], tags=['고난']),\n",
       " TaggedDocument(words=['자녀', '이면', '또한', '상속', '곧', '하나님', '상속', '그리스도', '상속', '우리', '그', '영광', '위', '고난', '것'], tags=['고난']),\n",
       " TaggedDocument(words=['생각', '건대', '현재', '고난', '장차', '우리', '영광', '비교', '수'], tags=['고난']),\n",
       " TaggedDocument(words=['오히려', '너희', '그리스도', '고난', '참여', '것', '그', '영광', '때', '너희', '함'], tags=['고난']),\n",
       " TaggedDocument(words=['만일', '그리스도인', '고난', '도리어', '그', '이름', '하나님', '영광'], tags=['고난']),\n",
       " TaggedDocument(words=['너희', '중', '고난', '자가', '그', '기도', '것', '자가', '그', '찬송'], tags=['고난']),\n",
       " TaggedDocument(words=['네', '고난', '중', '내', '너', '우렛소리', '은밀', '곳', '네', '응답', '므리바', '물', '너', '시험', '도'], tags=['고난']),\n",
       " TaggedDocument(words=['내', '환난', '중', '여호와', '응답', '도'], tags=['고난']),\n",
       " TaggedDocument(words=['너희', '너희', '모든', '재난', '고통', '중', '친히', '구원', '내신', '너희', '하나님', '오늘', '우리', '위', '왕', '도', '즉', '이제', '너희', '파', '천', '명', '여호와', '앞', '오라'], tags=['고통']),\n",
       " TaggedDocument(words=['다윗', '갓', '내', '고통', '중', '청', '건대', '여호와', '긍휼', '크시', '우리', '여호와', '손', '내', '사람', '손'], tags=['고통']),\n",
       " TaggedDocument(words=['여호와', '내', '고통', '중', '은혜', '베', '내', '근심', '때문', '눈', '영혼', '몸', '쇠'], tags=['고통']),\n",
       " TaggedDocument(words=['이', '그', '근심', '중', '여호와', '그', '고통'], tags=['고통']),\n",
       " TaggedDocument(words=['이', '그', '그', '환난', '중', '여호와', '그', '고통', '구원'], tags=['고통']),\n",
       " TaggedDocument(words=['내', '고통', '중', '여호와', '여호와', '응답', '곳', '도'], tags=['고통']),\n",
       " TaggedDocument(words=['요즘', '취업', '준비', '것', '때문', '이', '기간', '언제', '하나님', '항상', '제', '길', '인도', '것', '의', '이', '시간'], tags=['고민'])]"
      ]
     },
     "execution_count": 8,
     "metadata": {},
     "output_type": "execute_result"
    }
   ],
   "source": [
    "tagged"
   ]
  },
  {
   "cell_type": "markdown",
   "metadata": {},
   "source": [
    "# 사용할 gensim 모델 생성"
   ]
  },
  {
   "cell_type": "code",
   "execution_count": 9,
   "metadata": {},
   "outputs": [
    {
     "name": "stderr",
     "output_type": "stream",
     "text": [
      "/Users/younghunjoo/opt/anaconda3/lib/python3.7/site-packages/gensim/models/base_any2vec.py:743: UserWarning: C extension not loaded, training will be slow. Install a C compiler and reinstall gensim for fast training.\n",
      "  \"C extension not loaded, training will be slow. \"\n"
     ]
    }
   ],
   "source": [
    "model = gensim.models.doc2vec.Doc2Vec(vector_size=200, window=5, min_count=5, epochs=5, workers=10)"
   ]
  },
  {
   "cell_type": "markdown",
   "metadata": {},
   "source": [
    "# Gensim 모델 vocabulary 생성(look-up table 느낌으로 해석하면 됨)"
   ]
  },
  {
   "cell_type": "code",
   "execution_count": 10,
   "metadata": {},
   "outputs": [],
   "source": [
    "model.build_vocab(tagged)"
   ]
  },
  {
   "cell_type": "markdown",
   "metadata": {},
   "source": [
    "# 모델 학습"
   ]
  },
  {
   "cell_type": "code",
   "execution_count": 11,
   "metadata": {},
   "outputs": [],
   "source": [
    "model.train(tagged, total_examples=model.corpus_count, epochs=model.epochs)"
   ]
  },
  {
   "cell_type": "markdown",
   "metadata": {},
   "source": [
    "# 고민 예측"
   ]
  },
  {
   "cell_type": "code",
   "execution_count": 12,
   "metadata": {},
   "outputs": [],
   "source": [
    "n = len(model.docvecs)\n",
    "UrlScore = model.docvecs.most_similar(\"고민\", topn=n)"
   ]
  },
  {
   "cell_type": "markdown",
   "metadata": {},
   "source": [
    "# 점수 확인"
   ]
  },
  {
   "cell_type": "code",
   "execution_count": 13,
   "metadata": {
    "collapsed": true
   },
   "outputs": [
    {
     "data": {
      "text/plain": [
       "[('연애', 0.09798480570316315),\n",
       " ('게으름', 0.06686584651470184),\n",
       " ('건강', 0.050302114337682724),\n",
       " ('고통', -0.027898885309696198),\n",
       " ('고난', -0.05646877735853195),\n",
       " ('감사', -0.11973550915718079)]"
      ]
     },
     "execution_count": 13,
     "metadata": {},
     "output_type": "execute_result"
    }
   ],
   "source": [
    "UrlScore"
   ]
  },
  {
   "cell_type": "code",
   "execution_count": null,
   "metadata": {},
   "outputs": [],
   "source": []
  }
 ],
 "metadata": {
  "kernelspec": {
   "display_name": "Python 3",
   "language": "python",
   "name": "python3"
  },
  "language_info": {
   "codemirror_mode": {
    "name": "ipython",
    "version": 3
   },
   "file_extension": ".py",
   "mimetype": "text/x-python",
   "name": "python",
   "nbconvert_exporter": "python",
   "pygments_lexer": "ipython3",
   "version": "3.7.4"
  }
 },
 "nbformat": 4,
 "nbformat_minor": 2
}
